{
 "cells": [
  {
   "cell_type": "code",
   "execution_count": 1,
   "id": "e929f426",
   "metadata": {},
   "outputs": [],
   "source": [
    "import pandas as pd"
   ]
  },
  {
   "cell_type": "code",
   "execution_count": 2,
   "id": "1acf45e6",
   "metadata": {},
   "outputs": [],
   "source": [
    "Food_Delivery =pd.read_csv(\"food_orders_new_delhi.csv\")"
   ]
  },
  {
   "cell_type": "code",
   "execution_count": 3,
   "id": "190e6ba0",
   "metadata": {},
   "outputs": [
    {
     "data": {
      "text/html": [
       "<div>\n",
       "<style scoped>\n",
       "    .dataframe tbody tr th:only-of-type {\n",
       "        vertical-align: middle;\n",
       "    }\n",
       "\n",
       "    .dataframe tbody tr th {\n",
       "        vertical-align: top;\n",
       "    }\n",
       "\n",
       "    .dataframe thead th {\n",
       "        text-align: right;\n",
       "    }\n",
       "</style>\n",
       "<table border=\"1\" class=\"dataframe\">\n",
       "  <thead>\n",
       "    <tr style=\"text-align: right;\">\n",
       "      <th></th>\n",
       "      <th>Order ID</th>\n",
       "      <th>Customer ID</th>\n",
       "      <th>Restaurant ID</th>\n",
       "      <th>Order Date and Time</th>\n",
       "      <th>Delivery Date and Time</th>\n",
       "      <th>Order Value</th>\n",
       "      <th>Delivery Fee</th>\n",
       "      <th>Payment Method</th>\n",
       "      <th>Discounts and Offers</th>\n",
       "      <th>Commission Fee</th>\n",
       "      <th>Payment Processing Fee</th>\n",
       "      <th>Refunds/Chargebacks</th>\n",
       "    </tr>\n",
       "  </thead>\n",
       "  <tbody>\n",
       "    <tr>\n",
       "      <th>0</th>\n",
       "      <td>1</td>\n",
       "      <td>C8270</td>\n",
       "      <td>R2924</td>\n",
       "      <td>01-02-2024 01:11</td>\n",
       "      <td>01-02-2024 02:39</td>\n",
       "      <td>1914</td>\n",
       "      <td>0</td>\n",
       "      <td>Credit Card</td>\n",
       "      <td>5% on App</td>\n",
       "      <td>150</td>\n",
       "      <td>47</td>\n",
       "      <td>0</td>\n",
       "    </tr>\n",
       "    <tr>\n",
       "      <th>1</th>\n",
       "      <td>2</td>\n",
       "      <td>C1860</td>\n",
       "      <td>R2054</td>\n",
       "      <td>02-02-2024 22:11</td>\n",
       "      <td>02-02-2024 22:46</td>\n",
       "      <td>986</td>\n",
       "      <td>40</td>\n",
       "      <td>Digital Wallet</td>\n",
       "      <td>10%</td>\n",
       "      <td>198</td>\n",
       "      <td>23</td>\n",
       "      <td>0</td>\n",
       "    </tr>\n",
       "    <tr>\n",
       "      <th>2</th>\n",
       "      <td>3</td>\n",
       "      <td>C6390</td>\n",
       "      <td>R2870</td>\n",
       "      <td>31-01-2024 05:54</td>\n",
       "      <td>31-01-2024 06:52</td>\n",
       "      <td>937</td>\n",
       "      <td>30</td>\n",
       "      <td>Cash on Delivery</td>\n",
       "      <td>15% New User</td>\n",
       "      <td>195</td>\n",
       "      <td>45</td>\n",
       "      <td>0</td>\n",
       "    </tr>\n",
       "    <tr>\n",
       "      <th>3</th>\n",
       "      <td>4</td>\n",
       "      <td>C6191</td>\n",
       "      <td>R2642</td>\n",
       "      <td>16-01-2024 22:52</td>\n",
       "      <td>16-01-2024 23:38</td>\n",
       "      <td>1463</td>\n",
       "      <td>50</td>\n",
       "      <td>Cash on Delivery</td>\n",
       "      <td>None</td>\n",
       "      <td>146</td>\n",
       "      <td>27</td>\n",
       "      <td>0</td>\n",
       "    </tr>\n",
       "    <tr>\n",
       "      <th>4</th>\n",
       "      <td>5</td>\n",
       "      <td>C6734</td>\n",
       "      <td>R2799</td>\n",
       "      <td>29-01-2024 01:19</td>\n",
       "      <td>29-01-2024 02:48</td>\n",
       "      <td>1992</td>\n",
       "      <td>30</td>\n",
       "      <td>Cash on Delivery</td>\n",
       "      <td>50 off Promo</td>\n",
       "      <td>130</td>\n",
       "      <td>50</td>\n",
       "      <td>0</td>\n",
       "    </tr>\n",
       "    <tr>\n",
       "      <th>...</th>\n",
       "      <td>...</td>\n",
       "      <td>...</td>\n",
       "      <td>...</td>\n",
       "      <td>...</td>\n",
       "      <td>...</td>\n",
       "      <td>...</td>\n",
       "      <td>...</td>\n",
       "      <td>...</td>\n",
       "      <td>...</td>\n",
       "      <td>...</td>\n",
       "      <td>...</td>\n",
       "      <td>...</td>\n",
       "    </tr>\n",
       "    <tr>\n",
       "      <th>995</th>\n",
       "      <td>996</td>\n",
       "      <td>C6232</td>\n",
       "      <td>R2129</td>\n",
       "      <td>14-01-2024 05:57</td>\n",
       "      <td>14-01-2024 06:39</td>\n",
       "      <td>825</td>\n",
       "      <td>0</td>\n",
       "      <td>Digital Wallet</td>\n",
       "      <td>5% on App</td>\n",
       "      <td>165</td>\n",
       "      <td>47</td>\n",
       "      <td>50</td>\n",
       "    </tr>\n",
       "    <tr>\n",
       "      <th>996</th>\n",
       "      <td>997</td>\n",
       "      <td>C6797</td>\n",
       "      <td>R2742</td>\n",
       "      <td>28-01-2024 08:50</td>\n",
       "      <td>28-01-2024 10:10</td>\n",
       "      <td>1627</td>\n",
       "      <td>50</td>\n",
       "      <td>Cash on Delivery</td>\n",
       "      <td>None</td>\n",
       "      <td>110</td>\n",
       "      <td>42</td>\n",
       "      <td>0</td>\n",
       "    </tr>\n",
       "    <tr>\n",
       "      <th>997</th>\n",
       "      <td>998</td>\n",
       "      <td>C5926</td>\n",
       "      <td>R2837</td>\n",
       "      <td>21-01-2024 09:43</td>\n",
       "      <td>21-01-2024 10:44</td>\n",
       "      <td>553</td>\n",
       "      <td>20</td>\n",
       "      <td>Cash on Delivery</td>\n",
       "      <td>None</td>\n",
       "      <td>64</td>\n",
       "      <td>31</td>\n",
       "      <td>0</td>\n",
       "    </tr>\n",
       "    <tr>\n",
       "      <th>998</th>\n",
       "      <td>999</td>\n",
       "      <td>C7016</td>\n",
       "      <td>R2144</td>\n",
       "      <td>30-01-2024 22:23</td>\n",
       "      <td>31-01-2024 00:07</td>\n",
       "      <td>1414</td>\n",
       "      <td>0</td>\n",
       "      <td>Cash on Delivery</td>\n",
       "      <td>15% New User</td>\n",
       "      <td>199</td>\n",
       "      <td>34</td>\n",
       "      <td>0</td>\n",
       "    </tr>\n",
       "    <tr>\n",
       "      <th>999</th>\n",
       "      <td>1000</td>\n",
       "      <td>C4335</td>\n",
       "      <td>R2890</td>\n",
       "      <td>08-01-2024 14:46</td>\n",
       "      <td>08-01-2024 15:39</td>\n",
       "      <td>1657</td>\n",
       "      <td>20</td>\n",
       "      <td>Digital Wallet</td>\n",
       "      <td>15% New User</td>\n",
       "      <td>180</td>\n",
       "      <td>27</td>\n",
       "      <td>100</td>\n",
       "    </tr>\n",
       "  </tbody>\n",
       "</table>\n",
       "<p>1000 rows × 12 columns</p>\n",
       "</div>"
      ],
      "text/plain": [
       "     Order ID Customer ID Restaurant ID Order Date and Time  \\\n",
       "0           1       C8270         R2924    01-02-2024 01:11   \n",
       "1           2       C1860         R2054    02-02-2024 22:11   \n",
       "2           3       C6390         R2870    31-01-2024 05:54   \n",
       "3           4       C6191         R2642    16-01-2024 22:52   \n",
       "4           5       C6734         R2799    29-01-2024 01:19   \n",
       "..        ...         ...           ...                 ...   \n",
       "995       996       C6232         R2129    14-01-2024 05:57   \n",
       "996       997       C6797         R2742    28-01-2024 08:50   \n",
       "997       998       C5926         R2837    21-01-2024 09:43   \n",
       "998       999       C7016         R2144    30-01-2024 22:23   \n",
       "999      1000       C4335         R2890    08-01-2024 14:46   \n",
       "\n",
       "    Delivery Date and Time  Order Value  Delivery Fee    Payment Method  \\\n",
       "0         01-02-2024 02:39         1914             0       Credit Card   \n",
       "1         02-02-2024 22:46          986            40    Digital Wallet   \n",
       "2         31-01-2024 06:52          937            30  Cash on Delivery   \n",
       "3         16-01-2024 23:38         1463            50  Cash on Delivery   \n",
       "4         29-01-2024 02:48         1992            30  Cash on Delivery   \n",
       "..                     ...          ...           ...               ...   \n",
       "995       14-01-2024 06:39          825             0    Digital Wallet   \n",
       "996       28-01-2024 10:10         1627            50  Cash on Delivery   \n",
       "997       21-01-2024 10:44          553            20  Cash on Delivery   \n",
       "998       31-01-2024 00:07         1414             0  Cash on Delivery   \n",
       "999       08-01-2024 15:39         1657            20    Digital Wallet   \n",
       "\n",
       "    Discounts and Offers  Commission Fee  Payment Processing Fee  \\\n",
       "0              5% on App             150                      47   \n",
       "1                    10%             198                      23   \n",
       "2           15% New User             195                      45   \n",
       "3                   None             146                      27   \n",
       "4           50 off Promo             130                      50   \n",
       "..                   ...             ...                     ...   \n",
       "995            5% on App             165                      47   \n",
       "996                 None             110                      42   \n",
       "997                 None              64                      31   \n",
       "998         15% New User             199                      34   \n",
       "999         15% New User             180                      27   \n",
       "\n",
       "     Refunds/Chargebacks  \n",
       "0                      0  \n",
       "1                      0  \n",
       "2                      0  \n",
       "3                      0  \n",
       "4                      0  \n",
       "..                   ...  \n",
       "995                   50  \n",
       "996                    0  \n",
       "997                    0  \n",
       "998                    0  \n",
       "999                  100  \n",
       "\n",
       "[1000 rows x 12 columns]"
      ]
     },
     "execution_count": 3,
     "metadata": {},
     "output_type": "execute_result"
    }
   ],
   "source": [
    "Food_Delivery"
   ]
  },
  {
   "cell_type": "code",
   "execution_count": 4,
   "id": "09fadf85",
   "metadata": {},
   "outputs": [
    {
     "name": "stdout",
     "output_type": "stream",
     "text": [
      "   Order ID Customer ID Restaurant ID Order Date and Time  \\\n",
      "0         1       C8270         R2924    01-02-2024 01:11   \n",
      "1         2       C1860         R2054    02-02-2024 22:11   \n",
      "2         3       C6390         R2870    31-01-2024 05:54   \n",
      "3         4       C6191         R2642    16-01-2024 22:52   \n",
      "4         5       C6734         R2799    29-01-2024 01:19   \n",
      "\n",
      "  Delivery Date and Time  Order Value  Delivery Fee    Payment Method  \\\n",
      "0       01-02-2024 02:39         1914             0       Credit Card   \n",
      "1       02-02-2024 22:46          986            40    Digital Wallet   \n",
      "2       31-01-2024 06:52          937            30  Cash on Delivery   \n",
      "3       16-01-2024 23:38         1463            50  Cash on Delivery   \n",
      "4       29-01-2024 02:48         1992            30  Cash on Delivery   \n",
      "\n",
      "  Discounts and Offers  Commission Fee  Payment Processing Fee  \\\n",
      "0            5% on App             150                      47   \n",
      "1                  10%             198                      23   \n",
      "2         15% New User             195                      45   \n",
      "3                 None             146                      27   \n",
      "4         50 off Promo             130                      50   \n",
      "\n",
      "   Refunds/Chargebacks  \n",
      "0                    0  \n",
      "1                    0  \n",
      "2                    0  \n",
      "3                    0  \n",
      "4                    0  \n"
     ]
    }
   ],
   "source": [
    "print(Food_Delivery.head())"
   ]
  },
  {
   "cell_type": "code",
   "execution_count": 5,
   "id": "75040888",
   "metadata": {},
   "outputs": [
    {
     "name": "stdout",
     "output_type": "stream",
     "text": [
      "<class 'pandas.core.frame.DataFrame'>\n",
      "RangeIndex: 1000 entries, 0 to 999\n",
      "Data columns (total 12 columns):\n",
      " #   Column                  Non-Null Count  Dtype \n",
      "---  ------                  --------------  ----- \n",
      " 0   Order ID                1000 non-null   int64 \n",
      " 1   Customer ID             1000 non-null   object\n",
      " 2   Restaurant ID           1000 non-null   object\n",
      " 3   Order Date and Time     1000 non-null   object\n",
      " 4   Delivery Date and Time  1000 non-null   object\n",
      " 5   Order Value             1000 non-null   int64 \n",
      " 6   Delivery Fee            1000 non-null   int64 \n",
      " 7   Payment Method          1000 non-null   object\n",
      " 8   Discounts and Offers    1000 non-null   object\n",
      " 9   Commission Fee          1000 non-null   int64 \n",
      " 10  Payment Processing Fee  1000 non-null   int64 \n",
      " 11  Refunds/Chargebacks     1000 non-null   int64 \n",
      "dtypes: int64(6), object(6)\n",
      "memory usage: 93.9+ KB\n",
      "None\n"
     ]
    }
   ],
   "source": [
    "print(Food_Delivery.info())"
   ]
  },
  {
   "cell_type": "code",
   "execution_count": 6,
   "id": "06853c75",
   "metadata": {},
   "outputs": [],
   "source": [
    "from datetime import datetime"
   ]
  },
  {
   "cell_type": "code",
   "execution_count": 7,
   "id": "d02deff1",
   "metadata": {},
   "outputs": [],
   "source": [
    "# convert date and time columns to datetime\n",
    "Food_Delivery['Order Date and Time'] = pd.to_datetime(Food_Delivery['Order Date and Time'])\n"
   ]
  },
  {
   "cell_type": "code",
   "execution_count": 8,
   "id": "8769156c",
   "metadata": {},
   "outputs": [],
   "source": [
    "Food_Delivery['Delivery Date and Time'] = pd.to_datetime(Food_Delivery['Delivery Date and Time'])"
   ]
  },
  {
   "cell_type": "code",
   "execution_count": 9,
   "id": "8bb46030",
   "metadata": {},
   "outputs": [
    {
     "data": {
      "text/plain": [
       "<module 'pandas' from 'C:\\\\Users\\\\vanitha\\\\anaconda3\\\\lib\\\\site-packages\\\\pandas\\\\__init__.py'>"
      ]
     },
     "execution_count": 9,
     "metadata": {},
     "output_type": "execute_result"
    }
   ],
   "source": [
    "pd"
   ]
  },
  {
   "cell_type": "code",
   "execution_count": 10,
   "id": "80af0e6f",
   "metadata": {},
   "outputs": [
    {
     "data": {
      "text/plain": [
       "0     2024-01-02 01:11:00\n",
       "1     2024-02-02 22:11:00\n",
       "2     2024-01-31 05:54:00\n",
       "3     2024-01-16 22:52:00\n",
       "4     2024-01-29 01:19:00\n",
       "              ...        \n",
       "995   2024-01-14 05:57:00\n",
       "996   2024-01-28 08:50:00\n",
       "997   2024-01-21 09:43:00\n",
       "998   2024-01-30 22:23:00\n",
       "999   2024-08-01 14:46:00\n",
       "Name: Order Date and Time, Length: 1000, dtype: datetime64[ns]"
      ]
     },
     "execution_count": 10,
     "metadata": {},
     "output_type": "execute_result"
    }
   ],
   "source": [
    "pd.to_datetime(Food_Delivery['Order Date and Time'])"
   ]
  },
  {
   "cell_type": "code",
   "execution_count": 11,
   "id": "553eeca0",
   "metadata": {},
   "outputs": [
    {
     "data": {
      "text/plain": [
       "0     2024-01-02 02:39:00\n",
       "1     2024-02-02 22:46:00\n",
       "2     2024-01-31 06:52:00\n",
       "3     2024-01-16 23:38:00\n",
       "4     2024-01-29 02:48:00\n",
       "              ...        \n",
       "995   2024-01-14 06:39:00\n",
       "996   2024-01-28 10:10:00\n",
       "997   2024-01-21 10:44:00\n",
       "998   2024-01-31 00:07:00\n",
       "999   2024-08-01 15:39:00\n",
       "Name: Delivery Date and Time, Length: 1000, dtype: datetime64[ns]"
      ]
     },
     "execution_count": 11,
     "metadata": {},
     "output_type": "execute_result"
    }
   ],
   "source": [
    "pd.to_datetime(Food_Delivery['Delivery Date and Time'])"
   ]
  },
  {
   "cell_type": "code",
   "execution_count": 12,
   "id": "502b79e1",
   "metadata": {},
   "outputs": [],
   "source": [
    "# first, let's create a function to extract numeric values from the 'Discounts and Offers' string\n",
    "def extract_discount(discount_str):\n",
    "    if 'off' in discount_str:\n",
    "        # Fixed amount off\n",
    "        return float(discount_str.split(' ')[0])\n",
    "    elif '%' in discount_str:\n",
    "        # Percentage off\n",
    "        return float(discount_str.split('%')[0])\n",
    "    else:\n",
    "        # No discount\n",
    "        return 0.0"
   ]
  },
  {
   "cell_type": "code",
   "execution_count": 13,
   "id": "e5f60732",
   "metadata": {},
   "outputs": [],
   "source": [
    "# apply the function to create a new 'Discount Value' column\n",
    "Food_Delivery['Discount Percentage'] = Food_Delivery['Discounts and Offers'].apply(lambda x: extract_discount(x))"
   ]
  },
  {
   "cell_type": "code",
   "execution_count": 14,
   "id": "d630f6a8",
   "metadata": {},
   "outputs": [
    {
     "data": {
      "text/plain": [
       "0       5.0\n",
       "1      10.0\n",
       "2      15.0\n",
       "3       0.0\n",
       "4      50.0\n",
       "       ... \n",
       "995     5.0\n",
       "996     0.0\n",
       "997     0.0\n",
       "998    15.0\n",
       "999    15.0\n",
       "Name: Discount Percentage, Length: 1000, dtype: float64"
      ]
     },
     "execution_count": 14,
     "metadata": {},
     "output_type": "execute_result"
    }
   ],
   "source": [
    "Food_Delivery['Discount Percentage']"
   ]
  },
  {
   "cell_type": "code",
   "execution_count": 15,
   "id": "63325a71",
   "metadata": {},
   "outputs": [
    {
     "data": {
      "text/plain": [
       "0       5.0\n",
       "1      10.0\n",
       "2      15.0\n",
       "3       0.0\n",
       "4      50.0\n",
       "       ... \n",
       "995     5.0\n",
       "996     0.0\n",
       "997     0.0\n",
       "998    15.0\n",
       "999    15.0\n",
       "Name: Discounts and Offers, Length: 1000, dtype: float64"
      ]
     },
     "execution_count": 15,
     "metadata": {},
     "output_type": "execute_result"
    }
   ],
   "source": [
    "Food_Delivery['Discounts and Offers'].apply(lambda x: extract_discount(x))"
   ]
  },
  {
   "cell_type": "code",
   "execution_count": 16,
   "id": "da7a021d",
   "metadata": {},
   "outputs": [],
   "source": [
    "Food_Delivery['Discount Amount'] = Food_Delivery.apply(lambda x: (x['Order Value'] * x['Discount Percentage'] / 100)\n",
    "                                                   if x['Discount Percentage'] > 1\n",
    "                                                   else x['Discount Percentage'], axis=1)"
   ]
  },
  {
   "cell_type": "code",
   "execution_count": 17,
   "id": "bdf4be58",
   "metadata": {},
   "outputs": [
    {
     "data": {
      "text/plain": [
       "0       95.70\n",
       "1       98.60\n",
       "2      140.55\n",
       "3        0.00\n",
       "4      996.00\n",
       "        ...  \n",
       "995     41.25\n",
       "996      0.00\n",
       "997      0.00\n",
       "998    212.10\n",
       "999    248.55\n",
       "Name: Discount Amount, Length: 1000, dtype: float64"
      ]
     },
     "execution_count": 17,
     "metadata": {},
     "output_type": "execute_result"
    }
   ],
   "source": [
    "Food_Delivery['Discount Amount']"
   ]
  },
  {
   "cell_type": "code",
   "execution_count": 18,
   "id": "a8acc459",
   "metadata": {},
   "outputs": [],
   "source": [
    "Food_Delivery['Discount Amount'] = Food_Delivery.apply(lambda x: x['Discount Amount'] if x['Discount Percentage'] <= 1\n",
    "                                                   else x['Order Value'] * x['Discount Percentage'] / 100, axis=1)"
   ]
  },
  {
   "cell_type": "code",
   "execution_count": 19,
   "id": "53c9dd2c",
   "metadata": {},
   "outputs": [
    {
     "data": {
      "text/plain": [
       "0       95.70\n",
       "1       98.60\n",
       "2      140.55\n",
       "3        0.00\n",
       "4      996.00\n",
       "        ...  \n",
       "995     41.25\n",
       "996      0.00\n",
       "997      0.00\n",
       "998    212.10\n",
       "999    248.55\n",
       "Name: Discount Amount, Length: 1000, dtype: float64"
      ]
     },
     "execution_count": 19,
     "metadata": {},
     "output_type": "execute_result"
    }
   ],
   "source": [
    "Food_Delivery['Discount Amount'] "
   ]
  },
  {
   "cell_type": "code",
   "execution_count": 20,
   "id": "e9fbf560",
   "metadata": {},
   "outputs": [
    {
     "data": {
      "text/plain": [
       "0       95.70\n",
       "1       98.60\n",
       "2      140.55\n",
       "3        0.00\n",
       "4      996.00\n",
       "        ...  \n",
       "995     41.25\n",
       "996      0.00\n",
       "997      0.00\n",
       "998    212.10\n",
       "999    248.55\n",
       "Length: 1000, dtype: float64"
      ]
     },
     "execution_count": 20,
     "metadata": {},
     "output_type": "execute_result"
    }
   ],
   "source": [
    "Food_Delivery.apply(lambda x: x['Discount Amount'] if x['Discount Percentage'] <= 1\n",
    "                                                   else x['Order Value'] * x['Discount Percentage'] / 100, axis=1)"
   ]
  },
  {
   "cell_type": "code",
   "execution_count": 21,
   "id": "fbe79414",
   "metadata": {},
   "outputs": [
    {
     "name": "stdout",
     "output_type": "stream",
     "text": [
      "   Order Value Discounts and Offers  Discount Percentage  Discount Amount\n",
      "0         1914            5% on App                  5.0            95.70\n",
      "1          986                  10%                 10.0            98.60\n",
      "2          937         15% New User                 15.0           140.55\n",
      "3         1463                 None                  0.0             0.00\n",
      "4         1992         50 off Promo                 50.0           996.00 Order ID                           int64\n",
      "Customer ID                       object\n",
      "Restaurant ID                     object\n",
      "Order Date and Time       datetime64[ns]\n",
      "Delivery Date and Time    datetime64[ns]\n",
      "Order Value                        int64\n",
      "Delivery Fee                       int64\n",
      "Payment Method                    object\n",
      "Discounts and Offers              object\n",
      "Commission Fee                     int64\n",
      "Payment Processing Fee             int64\n",
      "Refunds/Chargebacks                int64\n",
      "Discount Percentage              float64\n",
      "Discount Amount                  float64\n",
      "dtype: object\n"
     ]
    }
   ],
   "source": [
    "print(Food_Delivery[['Order Value', 'Discounts and Offers', 'Discount Percentage', 'Discount Amount']].head(), Food_Delivery.dtypes)"
   ]
  },
  {
   "cell_type": "code",
   "execution_count": 54,
   "id": "b2a32d7c",
   "metadata": {},
   "outputs": [],
   "source": [
    "# calculate total costs and revenue per order\n"
   ]
  },
  {
   "cell_type": "code",
   "execution_count": 55,
   "id": "710c28d4",
   "metadata": {},
   "outputs": [],
   "source": [
    "# aggregate data to get overall metrics\n"
   ]
  },
  {
   "cell_type": "code",
   "execution_count": 56,
   "id": "4d878d32",
   "metadata": {},
   "outputs": [],
   "source": [
    "Food_Delivery['Revenue'] = Food_Delivery['Commission Fee']"
   ]
  },
  {
   "cell_type": "code",
   "execution_count": 57,
   "id": "75b9ea3f",
   "metadata": {},
   "outputs": [
    {
     "data": {
      "text/plain": [
       "0      150\n",
       "1      198\n",
       "2      195\n",
       "3      146\n",
       "4      130\n",
       "      ... \n",
       "995    165\n",
       "996    110\n",
       "997     64\n",
       "998    199\n",
       "999    180\n",
       "Name: Revenue, Length: 1000, dtype: int64"
      ]
     },
     "execution_count": 57,
     "metadata": {},
     "output_type": "execute_result"
    }
   ],
   "source": [
    "Food_Delivery['Revenue']"
   ]
  },
  {
   "cell_type": "code",
   "execution_count": 58,
   "id": "b56b606d",
   "metadata": {},
   "outputs": [],
   "source": [
    "Food_Delivery['Profit'] = Food_Delivery['Revenue'] -Food_Delivery['Total Costs']"
   ]
  },
  {
   "cell_type": "code",
   "execution_count": 59,
   "id": "147047cf",
   "metadata": {},
   "outputs": [
    {
     "data": {
      "text/plain": [
       "0        7.30\n",
       "1       36.40\n",
       "2      -20.55\n",
       "3       69.00\n",
       "4     -946.00\n",
       "        ...  \n",
       "995     76.75\n",
       "996     18.00\n",
       "997     13.00\n",
       "998    -47.10\n",
       "999   -115.55\n",
       "Name: Profit, Length: 1000, dtype: float64"
      ]
     },
     "execution_count": 59,
     "metadata": {},
     "output_type": "execute_result"
    }
   ],
   "source": [
    "Food_Delivery['Profit']"
   ]
  },
  {
   "cell_type": "code",
   "execution_count": 60,
   "id": "11dfa936",
   "metadata": {},
   "outputs": [],
   "source": [
    "total_orders = Food_Delivery.shape[0]"
   ]
  },
  {
   "cell_type": "code",
   "execution_count": 61,
   "id": "02b801af",
   "metadata": {},
   "outputs": [
    {
     "data": {
      "text/plain": [
       "1000"
      ]
     },
     "execution_count": 61,
     "metadata": {},
     "output_type": "execute_result"
    }
   ],
   "source": [
    "total_orders"
   ]
  },
  {
   "cell_type": "code",
   "execution_count": 62,
   "id": "5df63df8",
   "metadata": {},
   "outputs": [],
   "source": [
    "total_revenue = Food_Delivery['Revenue'].sum()"
   ]
  },
  {
   "cell_type": "code",
   "execution_count": 63,
   "id": "612009df",
   "metadata": {},
   "outputs": [
    {
     "data": {
      "text/plain": [
       "126990"
      ]
     },
     "execution_count": 63,
     "metadata": {},
     "output_type": "execute_result"
    }
   ],
   "source": [
    "total_revenue"
   ]
  },
  {
   "cell_type": "code",
   "execution_count": 64,
   "id": "8948e6c5",
   "metadata": {},
   "outputs": [],
   "source": [
    "total_costs = Food_Delivery['Total Costs'].sum()"
   ]
  },
  {
   "cell_type": "code",
   "execution_count": 65,
   "id": "16744606",
   "metadata": {},
   "outputs": [
    {
     "data": {
      "text/plain": [
       "232709.85"
      ]
     },
     "execution_count": 65,
     "metadata": {},
     "output_type": "execute_result"
    }
   ],
   "source": [
    "total_costs"
   ]
  },
  {
   "cell_type": "code",
   "execution_count": 66,
   "id": "5cf58f30",
   "metadata": {},
   "outputs": [],
   "source": [
    "total_profit = Food_Delivery['Profit'].sum()"
   ]
  },
  {
   "cell_type": "code",
   "execution_count": 67,
   "id": "a966412f",
   "metadata": {},
   "outputs": [
    {
     "data": {
      "text/plain": [
       "-105719.85"
      ]
     },
     "execution_count": 67,
     "metadata": {},
     "output_type": "execute_result"
    }
   ],
   "source": [
    "total_profit"
   ]
  },
  {
   "cell_type": "code",
   "execution_count": 68,
   "id": "fd6b792a",
   "metadata": {},
   "outputs": [],
   "source": [
    "overall_metrics = {\n",
    "    \"Total Orders\": total_orders,\n",
    "    \"Total Revenue\": total_revenue,\n",
    "    \"Total Costs\": total_costs,\n",
    "    \"Total Profit\": total_profit\n",
    "}"
   ]
  },
  {
   "cell_type": "code",
   "execution_count": 69,
   "id": "6ef8574f",
   "metadata": {},
   "outputs": [
    {
     "name": "stdout",
     "output_type": "stream",
     "text": [
      "{'Total Orders': 1000, 'Total Revenue': 126990, 'Total Costs': 232709.85, 'Total Profit': -105719.85}\n"
     ]
    }
   ],
   "source": [
    "print(overall_metrics)"
   ]
  },
  {
   "cell_type": "code",
   "execution_count": 70,
   "id": "8514fc56",
   "metadata": {},
   "outputs": [],
   "source": [
    "import matplotlib.pyplot as plt\n",
    "\n"
   ]
  },
  {
   "cell_type": "code",
   "execution_count": 71,
   "id": "a222d991",
   "metadata": {},
   "outputs": [
    {
     "data": {
      "image/png": "[encoded data removed]",
      "text/plain": [
       "<Figure size 1000x600 with 1 Axes>"
      ]
     },
     "metadata": {},
     "output_type": "display_data"
    }
   ],
   "source": [
    "# histogram of profits per order\n",
    "plt.figure(figsize=(10, 6))\n",
    "plt.hist(Food_Delivery['Profit'], bins=50, color='skyblue', edgecolor='black')\n",
    "plt.title('Profit Distribution per Order in Food Delivery')\n",
    "plt.xlabel('Profit')\n",
    "plt.ylabel('Number of Orders')\n",
    "plt.axvline(Food_Delivery['Profit'].mean(), color='red', linestyle='dashed', linewidth=1)\n",
    "plt.show()"
   ]
  },
  {
   "cell_type": "code",
   "execution_count": 72,
   "id": "832fdf0b",
   "metadata": {},
   "outputs": [
    {
     "data": {
      "image/png": "[encoded data removed]",
      "text/plain": [
       "<Figure size 700x700 with 1 Axes>"
      ]
     },
     "metadata": {},
     "output_type": "display_data"
    }
   ],
   "source": [
    "# pie chart for the proportion of total costs\n",
    "costs_breakdown = Food_Delivery[['Delivery Fee', 'Payment Processing Fee', 'Discount Amount']].sum()\n",
    "plt.figure(figsize=(7, 7))\n",
    "plt.pie(costs_breakdown, labels=costs_breakdown.index, autopct='%1.1f%%', startangle=140, colors=['tomato', 'gold', 'lightblue'])\n",
    "plt.title('Proportion of Total Costs in Food Delivery')\n",
    "plt.show()"
   ]
  },
  {
   "cell_type": "code",
   "execution_count": 73,
   "id": "974c3c30",
   "metadata": {},
   "outputs": [
    {
     "data": {
      "image/png": "[encoded data removed]",
      "text/plain": [
       "<Figure size 800x600 with 1 Axes>"
      ]
     },
     "metadata": {},
     "output_type": "display_data"
    }
   ],
   "source": [
    "# bar chart for total revenue, costs, and profit\n",
    "totals = ['Total Revenue', 'Total Costs', 'Total Profit']\n",
    "values = [total_revenue, total_costs, total_profit]\n",
    "\n",
    "plt.figure(figsize=(8, 6))\n",
    "plt.bar(totals, values, color=['green', 'red', 'blue'])\n",
    "plt.title('Total Revenue, Costs, and Profit')\n",
    "plt.ylabel('Amount (INR)')\n",
    "plt.show()"
   ]
  },
  {
   "cell_type": "code",
   "execution_count": 76,
   "id": "c9261f40",
   "metadata": {},
   "outputs": [],
   "source": [
    "# filter the dataset for profitable orders\n",
    "profitable_orders = Food_Delivery[Food_Delivery['Profit'] > 0]"
   ]
  },
  {
   "cell_type": "code",
   "execution_count": 77,
   "id": "17f2bc09",
   "metadata": {},
   "outputs": [
    {
     "data": {
      "text/html": [
       "<div>\n",
       "<style scoped>\n",
       "    .dataframe tbody tr th:only-of-type {\n",
       "        vertical-align: middle;\n",
       "    }\n",
       "\n",
       "    .dataframe tbody tr th {\n",
       "        vertical-align: top;\n",
       "    }\n",
       "\n",
       "    .dataframe thead th {\n",
       "        text-align: right;\n",
       "    }\n",
       "</style>\n",
       "<table border=\"1\" class=\"dataframe\">\n",
       "  <thead>\n",
       "    <tr style=\"text-align: right;\">\n",
       "      <th></th>\n",
       "      <th>Order ID</th>\n",
       "      <th>Customer ID</th>\n",
       "      <th>Restaurant ID</th>\n",
       "      <th>Order Date and Time</th>\n",
       "      <th>Delivery Date and Time</th>\n",
       "      <th>Order Value</th>\n",
       "      <th>Delivery Fee</th>\n",
       "      <th>Payment Method</th>\n",
       "      <th>Discounts and Offers</th>\n",
       "      <th>Commission Fee</th>\n",
       "      <th>Payment Processing Fee</th>\n",
       "      <th>Refunds/Chargebacks</th>\n",
       "      <th>Discount Percentage</th>\n",
       "      <th>Discount Amount</th>\n",
       "      <th>Total Costs</th>\n",
       "      <th>Revenue</th>\n",
       "      <th>Profit</th>\n",
       "    </tr>\n",
       "  </thead>\n",
       "  <tbody>\n",
       "    <tr>\n",
       "      <th>0</th>\n",
       "      <td>1</td>\n",
       "      <td>C8270</td>\n",
       "      <td>R2924</td>\n",
       "      <td>2024-01-02 01:11:00</td>\n",
       "      <td>2024-01-02 02:39:00</td>\n",
       "      <td>1914</td>\n",
       "      <td>0</td>\n",
       "      <td>Credit Card</td>\n",
       "      <td>5% on App</td>\n",
       "      <td>150</td>\n",
       "      <td>47</td>\n",
       "      <td>0</td>\n",
       "      <td>5.0</td>\n",
       "      <td>95.70</td>\n",
       "      <td>142.70</td>\n",
       "      <td>150</td>\n",
       "      <td>7.30</td>\n",
       "    </tr>\n",
       "    <tr>\n",
       "      <th>1</th>\n",
       "      <td>2</td>\n",
       "      <td>C1860</td>\n",
       "      <td>R2054</td>\n",
       "      <td>2024-02-02 22:11:00</td>\n",
       "      <td>2024-02-02 22:46:00</td>\n",
       "      <td>986</td>\n",
       "      <td>40</td>\n",
       "      <td>Digital Wallet</td>\n",
       "      <td>10%</td>\n",
       "      <td>198</td>\n",
       "      <td>23</td>\n",
       "      <td>0</td>\n",
       "      <td>10.0</td>\n",
       "      <td>98.60</td>\n",
       "      <td>161.60</td>\n",
       "      <td>198</td>\n",
       "      <td>36.40</td>\n",
       "    </tr>\n",
       "    <tr>\n",
       "      <th>3</th>\n",
       "      <td>4</td>\n",
       "      <td>C6191</td>\n",
       "      <td>R2642</td>\n",
       "      <td>2024-01-16 22:52:00</td>\n",
       "      <td>2024-01-16 23:38:00</td>\n",
       "      <td>1463</td>\n",
       "      <td>50</td>\n",
       "      <td>Cash on Delivery</td>\n",
       "      <td>None</td>\n",
       "      <td>146</td>\n",
       "      <td>27</td>\n",
       "      <td>0</td>\n",
       "      <td>0.0</td>\n",
       "      <td>0.00</td>\n",
       "      <td>77.00</td>\n",
       "      <td>146</td>\n",
       "      <td>69.00</td>\n",
       "    </tr>\n",
       "    <tr>\n",
       "      <th>5</th>\n",
       "      <td>6</td>\n",
       "      <td>C7265</td>\n",
       "      <td>R2777</td>\n",
       "      <td>2024-01-25 04:36:00</td>\n",
       "      <td>2024-01-25 05:27:00</td>\n",
       "      <td>439</td>\n",
       "      <td>20</td>\n",
       "      <td>Cash on Delivery</td>\n",
       "      <td>10%</td>\n",
       "      <td>92</td>\n",
       "      <td>27</td>\n",
       "      <td>150</td>\n",
       "      <td>10.0</td>\n",
       "      <td>43.90</td>\n",
       "      <td>90.90</td>\n",
       "      <td>92</td>\n",
       "      <td>1.10</td>\n",
       "    </tr>\n",
       "    <tr>\n",
       "      <th>6</th>\n",
       "      <td>7</td>\n",
       "      <td>C1466</td>\n",
       "      <td>R2457</td>\n",
       "      <td>2024-12-01 23:55:00</td>\n",
       "      <td>2024-01-13 00:48:00</td>\n",
       "      <td>303</td>\n",
       "      <td>30</td>\n",
       "      <td>Digital Wallet</td>\n",
       "      <td>5% on App</td>\n",
       "      <td>144</td>\n",
       "      <td>12</td>\n",
       "      <td>50</td>\n",
       "      <td>5.0</td>\n",
       "      <td>15.15</td>\n",
       "      <td>57.15</td>\n",
       "      <td>144</td>\n",
       "      <td>86.85</td>\n",
       "    </tr>\n",
       "    <tr>\n",
       "      <th>...</th>\n",
       "      <td>...</td>\n",
       "      <td>...</td>\n",
       "      <td>...</td>\n",
       "      <td>...</td>\n",
       "      <td>...</td>\n",
       "      <td>...</td>\n",
       "      <td>...</td>\n",
       "      <td>...</td>\n",
       "      <td>...</td>\n",
       "      <td>...</td>\n",
       "      <td>...</td>\n",
       "      <td>...</td>\n",
       "      <td>...</td>\n",
       "      <td>...</td>\n",
       "      <td>...</td>\n",
       "      <td>...</td>\n",
       "      <td>...</td>\n",
       "    </tr>\n",
       "    <tr>\n",
       "      <th>988</th>\n",
       "      <td>989</td>\n",
       "      <td>C8311</td>\n",
       "      <td>R2380</td>\n",
       "      <td>2024-01-31 06:48:00</td>\n",
       "      <td>2024-01-31 08:43:00</td>\n",
       "      <td>1511</td>\n",
       "      <td>0</td>\n",
       "      <td>Credit Card</td>\n",
       "      <td>5% on App</td>\n",
       "      <td>136</td>\n",
       "      <td>10</td>\n",
       "      <td>0</td>\n",
       "      <td>5.0</td>\n",
       "      <td>75.55</td>\n",
       "      <td>85.55</td>\n",
       "      <td>136</td>\n",
       "      <td>50.45</td>\n",
       "    </tr>\n",
       "    <tr>\n",
       "      <th>989</th>\n",
       "      <td>990</td>\n",
       "      <td>C8186</td>\n",
       "      <td>R2622</td>\n",
       "      <td>2024-09-01 17:54:00</td>\n",
       "      <td>2024-09-01 18:42:00</td>\n",
       "      <td>1058</td>\n",
       "      <td>50</td>\n",
       "      <td>Credit Card</td>\n",
       "      <td>5% on App</td>\n",
       "      <td>182</td>\n",
       "      <td>45</td>\n",
       "      <td>0</td>\n",
       "      <td>5.0</td>\n",
       "      <td>52.90</td>\n",
       "      <td>147.90</td>\n",
       "      <td>182</td>\n",
       "      <td>34.10</td>\n",
       "    </tr>\n",
       "    <tr>\n",
       "      <th>995</th>\n",
       "      <td>996</td>\n",
       "      <td>C6232</td>\n",
       "      <td>R2129</td>\n",
       "      <td>2024-01-14 05:57:00</td>\n",
       "      <td>2024-01-14 06:39:00</td>\n",
       "      <td>825</td>\n",
       "      <td>0</td>\n",
       "      <td>Digital Wallet</td>\n",
       "      <td>5% on App</td>\n",
       "      <td>165</td>\n",
       "      <td>47</td>\n",
       "      <td>50</td>\n",
       "      <td>5.0</td>\n",
       "      <td>41.25</td>\n",
       "      <td>88.25</td>\n",
       "      <td>165</td>\n",
       "      <td>76.75</td>\n",
       "    </tr>\n",
       "    <tr>\n",
       "      <th>996</th>\n",
       "      <td>997</td>\n",
       "      <td>C6797</td>\n",
       "      <td>R2742</td>\n",
       "      <td>2024-01-28 08:50:00</td>\n",
       "      <td>2024-01-28 10:10:00</td>\n",
       "      <td>1627</td>\n",
       "      <td>50</td>\n",
       "      <td>Cash on Delivery</td>\n",
       "      <td>None</td>\n",
       "      <td>110</td>\n",
       "      <td>42</td>\n",
       "      <td>0</td>\n",
       "      <td>0.0</td>\n",
       "      <td>0.00</td>\n",
       "      <td>92.00</td>\n",
       "      <td>110</td>\n",
       "      <td>18.00</td>\n",
       "    </tr>\n",
       "    <tr>\n",
       "      <th>997</th>\n",
       "      <td>998</td>\n",
       "      <td>C5926</td>\n",
       "      <td>R2837</td>\n",
       "      <td>2024-01-21 09:43:00</td>\n",
       "      <td>2024-01-21 10:44:00</td>\n",
       "      <td>553</td>\n",
       "      <td>20</td>\n",
       "      <td>Cash on Delivery</td>\n",
       "      <td>None</td>\n",
       "      <td>64</td>\n",
       "      <td>31</td>\n",
       "      <td>0</td>\n",
       "      <td>0.0</td>\n",
       "      <td>0.00</td>\n",
       "      <td>51.00</td>\n",
       "      <td>64</td>\n",
       "      <td>13.00</td>\n",
       "    </tr>\n",
       "  </tbody>\n",
       "</table>\n",
       "<p>415 rows × 17 columns</p>\n",
       "</div>"
      ],
      "text/plain": [
       "     Order ID Customer ID Restaurant ID Order Date and Time  \\\n",
       "0           1       C8270         R2924 2024-01-02 01:11:00   \n",
       "1           2       C1860         R2054 2024-02-02 22:11:00   \n",
       "3           4       C6191         R2642 2024-01-16 22:52:00   \n",
       "5           6       C7265         R2777 2024-01-25 04:36:00   \n",
       "6           7       C1466         R2457 2024-12-01 23:55:00   \n",
       "..        ...         ...           ...                 ...   \n",
       "988       989       C8311         R2380 2024-01-31 06:48:00   \n",
       "989       990       C8186         R2622 2024-09-01 17:54:00   \n",
       "995       996       C6232         R2129 2024-01-14 05:57:00   \n",
       "996       997       C6797         R2742 2024-01-28 08:50:00   \n",
       "997       998       C5926         R2837 2024-01-21 09:43:00   \n",
       "\n",
       "    Delivery Date and Time  Order Value  Delivery Fee    Payment Method  \\\n",
       "0      2024-01-02 02:39:00         1914             0       Credit Card   \n",
       "1      2024-02-02 22:46:00          986            40    Digital Wallet   \n",
       "3      2024-01-16 23:38:00         1463            50  Cash on Delivery   \n",
       "5      2024-01-25 05:27:00          439            20  Cash on Delivery   \n",
       "6      2024-01-13 00:48:00          303            30    Digital Wallet   \n",
       "..                     ...          ...           ...               ...   \n",
       "988    2024-01-31 08:43:00         1511             0       Credit Card   \n",
       "989    2024-09-01 18:42:00         1058            50       Credit Card   \n",
       "995    2024-01-14 06:39:00          825             0    Digital Wallet   \n",
       "996    2024-01-28 10:10:00         1627            50  Cash on Delivery   \n",
       "997    2024-01-21 10:44:00          553            20  Cash on Delivery   \n",
       "\n",
       "    Discounts and Offers  Commission Fee  Payment Processing Fee  \\\n",
       "0              5% on App             150                      47   \n",
       "1                    10%             198                      23   \n",
       "3                   None             146                      27   \n",
       "5                    10%              92                      27   \n",
       "6              5% on App             144                      12   \n",
       "..                   ...             ...                     ...   \n",
       "988            5% on App             136                      10   \n",
       "989            5% on App             182                      45   \n",
       "995            5% on App             165                      47   \n",
       "996                 None             110                      42   \n",
       "997                 None              64                      31   \n",
       "\n",
       "     Refunds/Chargebacks  Discount Percentage  Discount Amount  Total Costs  \\\n",
       "0                      0                  5.0            95.70       142.70   \n",
       "1                      0                 10.0            98.60       161.60   \n",
       "3                      0                  0.0             0.00        77.00   \n",
       "5                    150                 10.0            43.90        90.90   \n",
       "6                     50                  5.0            15.15        57.15   \n",
       "..                   ...                  ...              ...          ...   \n",
       "988                    0                  5.0            75.55        85.55   \n",
       "989                    0                  5.0            52.90       147.90   \n",
       "995                   50                  5.0            41.25        88.25   \n",
       "996                    0                  0.0             0.00        92.00   \n",
       "997                    0                  0.0             0.00        51.00   \n",
       "\n",
       "     Revenue  Profit  \n",
       "0        150    7.30  \n",
       "1        198   36.40  \n",
       "3        146   69.00  \n",
       "5         92    1.10  \n",
       "6        144   86.85  \n",
       "..       ...     ...  \n",
       "988      136   50.45  \n",
       "989      182   34.10  \n",
       "995      165   76.75  \n",
       "996      110   18.00  \n",
       "997       64   13.00  \n",
       "\n",
       "[415 rows x 17 columns]"
      ]
     },
     "execution_count": 77,
     "metadata": {},
     "output_type": "execute_result"
    }
   ],
   "source": [
    "profitable_orders"
   ]
  },
  {
   "cell_type": "code",
   "execution_count": 78,
   "id": "bccc3592",
   "metadata": {},
   "outputs": [
    {
     "name": "stderr",
     "output_type": "stream",
     "text": [
      "C:\\Users\\vanitha\\AppData\\Local\\Temp\\ipykernel_27332\\3265440547.py:2: SettingWithCopyWarning: \n",
      "A value is trying to be set on a copy of a slice from a DataFrame.\n",
      "Try using .loc[row_indexer,col_indexer] = value instead\n",
      "\n",
      "See the caveats in the documentation: https://pandas.pydata.org/pandas-docs/stable/user_guide/indexing.html#returning-a-view-versus-a-copy\n",
      "  profitable_orders['Commission Percentage'] = (profitable_orders['Commission Fee'] / profitable_orders['Order Value']) * 100\n"
     ]
    }
   ],
   "source": [
    "# calculate the average commission percentage for profitable orders\n",
    "profitable_orders['Commission Percentage'] = (profitable_orders['Commission Fee'] / profitable_orders['Order Value']) * 100\n"
   ]
  },
  {
   "cell_type": "code",
   "execution_count": 80,
   "id": "ef8777bc",
   "metadata": {},
   "outputs": [
    {
     "name": "stderr",
     "output_type": "stream",
     "text": [
      "C:\\Users\\vanitha\\AppData\\Local\\Temp\\ipykernel_27332\\3898380665.py:2: SettingWithCopyWarning: \n",
      "A value is trying to be set on a copy of a slice from a DataFrame.\n",
      "Try using .loc[row_indexer,col_indexer] = value instead\n",
      "\n",
      "See the caveats in the documentation: https://pandas.pydata.org/pandas-docs/stable/user_guide/indexing.html#returning-a-view-versus-a-copy\n",
      "  profitable_orders['Effective Discount Percentage'] = (profitable_orders['Discount Amount'] / profitable_orders['Order Value']) * 100\n"
     ]
    }
   ],
   "source": [
    "# calculate the average discount percentage for profitable orders\n",
    "profitable_orders['Effective Discount Percentage'] = (profitable_orders['Discount Amount'] / profitable_orders['Order Value']) * 100"
   ]
  },
  {
   "cell_type": "code",
   "execution_count": null,
   "id": "2d7beb8f",
   "metadata": {},
   "outputs": [],
   "source": []
  }
 ],
 "metadata": {
  "kernelspec": {
   "display_name": "Python 3 (ipykernel)",
   "language": "python",
   "name": "python3"
  },
  "language_info": {
   "codemirror_mode": {
    "name": "ipython",
    "version": 3
   },
   "file_extension": ".py",
   "mimetype": "text/x-python",
   "name": "python",
   "nbconvert_exporter": "python",
   "pygments_lexer": "ipython3",
   "version": "3.10.9"
  }
 },
 "nbformat": 4,
 "nbformat_minor": 5
}
